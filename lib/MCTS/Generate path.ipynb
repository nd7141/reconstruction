{
 "cells": [
  {
   "cell_type": "code",
   "execution_count": 17,
   "metadata": {},
   "outputs": [],
   "source": [
    "import torch\n",
    "from problem_mcts import generate_regular_problems\n",
    "from utils_mcts import *\n",
    "from MCTS_Act_LSTM import MCTS\n",
    "from collections import defaultdict as ddict"
   ]
  },
  {
   "cell_type": "code",
   "execution_count": 2,
   "metadata": {},
   "outputs": [],
   "source": [
    "agent = torch.load(\"./nets/regular_10_gen_regularazied.pth\")"
   ]
  },
  {
   "cell_type": "code",
   "execution_count": 3,
   "metadata": {},
   "outputs": [
    {
     "data": {
      "text/plain": [
       "AgentActLSTM(\n",
       "  (gcn): GraphConvolutionBlock(\n",
       "    (convs): ModuleList(\n",
       "      (0): GraphConvolution (64 -> 256)\n",
       "      (1): GraphConvolution (256 -> 256)\n",
       "    )\n",
       "    (activation): ELU(alpha=1.0)\n",
       "    (dense): Linear(in_features=256, out_features=256, bias=True)\n",
       "  )\n",
       "  (lstm): LSTM(256, 256, batch_first=True)\n",
       "  (critic): Sequential(\n",
       "    (0): Linear(in_features=256, out_features=256, bias=True)\n",
       "    (1): ELU(alpha=1.0)\n",
       "    (2): Linear(in_features=256, out_features=1, bias=True)\n",
       "    (3): Tanh()\n",
       "  )\n",
       "  (actor): Sequential(\n",
       "    (0): Linear(in_features=512, out_features=256, bias=True)\n",
       "    (1): ELU(alpha=1.0)\n",
       "    (2): Linear(in_features=256, out_features=1, bias=True)\n",
       "    (3): Softmax()\n",
       "  )\n",
       ")"
      ]
     },
     "execution_count": 3,
     "metadata": {},
     "output_type": "execute_result"
    }
   ],
   "source": [
    "agent"
   ]
  },
  {
   "cell_type": "code",
   "execution_count": 18,
   "metadata": {},
   "outputs": [],
   "source": [
    "def get_path(agent, problem, vertex):\n",
    "    with torch.no_grad():\n",
    "        edges = problem.get_edges()\n",
    "        path_length = 2*problem.num_edges + 1\n",
    "        problem.path = [vertex]\n",
    "        path_buffer = []\n",
    "        source = problem.get_state()[0]\n",
    "        graph_emb = agent.embed_graph(problem.edges)\n",
    "        mcts = MCTS(game=problem, nnet=agent, graph_emb=graph_emb,\n",
    "                numMCTSSims=5, cpuct=1, edges=edges, path_length=path_length)\n",
    "        random_walk = [source]\n",
    "        checked = ddict(list)\n",
    "        stack = [source]\n",
    "        visited = {source}\n",
    "        ranks = {0: source} # to attempt to get maximal cover (possible to do without rank, but then no guarantees on maximality)\n",
    "        revranks = {source: 0}\n",
    "        while len(stack) > 0:\n",
    "            last = stack[-1]\n",
    "            lastrank = revranks[last]\n",
    "            maxrank = max(ranks.keys()) + 1\n",
    "            pi = mcts.getActionProb(random_walk[:], path_buffer)\n",
    "            Nlast = [x for _,x in sorted(zip(pi, edges[random_walk[:][-1]]), reverse=True)]\n",
    "            flag = False\n",
    "            for neighbor in Nlast:\n",
    "                if neighbor not in visited:\n",
    "                    random_walk.append(neighbor)\n",
    "                    stack.append(neighbor)\n",
    "                    checked[last].append(neighbor)\n",
    "                    visited.add(neighbor)\n",
    "                    ranks[maxrank] = neighbor\n",
    "                    revranks[neighbor] = maxrank\n",
    "                    flag = True\n",
    "                    break\n",
    "\n",
    "            if not flag:\n",
    "                for r in range(maxrank-1, lastrank+1, -1):\n",
    "                    node = ranks[r]\n",
    "                    if node not in checked[last] and node in Nlast:\n",
    "                        checked[last].append(node)\n",
    "                        random_walk.extend([node, last])\n",
    "\n",
    "            if not flag:\n",
    "                stack.pop()\n",
    "                if len(stack) > 0:\n",
    "                    random_walk.append(stack[-1])\n",
    "                    checked[last].append(stack[-1])\n",
    "    return random_walk"
   ]
  },
  {
   "cell_type": "code",
   "execution_count": 19,
   "metadata": {},
   "outputs": [],
   "source": [
    "problem_maker = generate_regular_problems(num_vertices=15, degree=6)"
   ]
  },
  {
   "cell_type": "code",
   "execution_count": 20,
   "metadata": {},
   "outputs": [],
   "source": [
    "p = next(problem_maker)"
   ]
  },
  {
   "cell_type": "code",
   "execution_count": 21,
   "metadata": {},
   "outputs": [],
   "source": [
    "path = get_path(agent, p, 5)"
   ]
  },
  {
   "cell_type": "code",
   "execution_count": 22,
   "metadata": {},
   "outputs": [
    {
     "data": {
      "text/plain": [
       "True"
      ]
     },
     "execution_count": 22,
     "metadata": {},
     "output_type": "execute_result"
    }
   ],
   "source": [
    "is_valid_path_new(path, p.edges)"
   ]
  },
  {
   "cell_type": "code",
   "execution_count": 23,
   "metadata": {},
   "outputs": [
    {
     "data": {
      "text/plain": [
       "True"
      ]
     },
     "execution_count": 23,
     "metadata": {},
     "output_type": "execute_result"
    }
   ],
   "source": [
    "check_that_cover(path, p)"
   ]
  },
  {
   "cell_type": "code",
   "execution_count": null,
   "metadata": {},
   "outputs": [],
   "source": []
  }
 ],
 "metadata": {
  "kernelspec": {
   "display_name": "Python 3",
   "language": "python",
   "name": "python3"
  },
  "language_info": {
   "codemirror_mode": {
    "name": "ipython",
    "version": 3
   },
   "file_extension": ".py",
   "mimetype": "text/x-python",
   "name": "python",
   "nbconvert_exporter": "python",
   "pygments_lexer": "ipython3",
   "version": "3.6.7"
  }
 },
 "nbformat": 4,
 "nbformat_minor": 2
}
