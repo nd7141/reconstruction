{
 "cells": [
  {
   "cell_type": "code",
   "execution_count": 1,
   "metadata": {},
   "outputs": [
    {
     "name": "stdout",
     "output_type": "stream",
     "text": [
      "env: CUDA_VISIBLE_DEVICES=0\n"
     ]
    }
   ],
   "source": [
    "%load_ext autoreload\n",
    "%autoreload 2\n",
    "%matplotlib inline\n",
    "%env CUDA_VISIBLE_DEVICES=0"
   ]
  },
  {
   "cell_type": "code",
   "execution_count": 2,
   "metadata": {},
   "outputs": [],
   "source": [
    "import os, sys\n",
    "from IPython.display import clear_output\n",
    "import matplotlib.pyplot as plt\n",
    "from tqdm import tqdm, trange\n",
    "from pandas import DataFrame\n",
    "import torch, torch.nn as nn\n",
    "import numpy as np\n",
    "import random\n",
    "import networkx as nx\n",
    "from utils_mcts import ReplayBuffer, PathsBuffer, get_states_emb, convert_to_walk, is_valid_path_new\n",
    "from MCTS_Act_LSTM import MCTS\n",
    "from problem_mcts import GraphProblem, generate_erdos_renyi_problems, generate_regular_problems\n",
    "from network_mcts import AgentActLSTM\n",
    "import time\n",
    "import nn_utils\n",
    "from collections import defaultdict as ddict"
   ]
  },
  {
   "cell_type": "code",
   "execution_count": 3,
   "metadata": {},
   "outputs": [],
   "source": [
    "sys.path.insert(0, '..')\n",
    "moving_average = lambda x, **kw: DataFrame({'x':np.asarray(x)}).x.ewm(**kw).mean().values"
   ]
  },
  {
   "cell_type": "code",
   "execution_count": 4,
   "metadata": {},
   "outputs": [],
   "source": [
    "def replace(P, source, target):\n",
    "    '''Replace last occurrence of source with source-target-source.'''\n",
    "    assert source in P\n",
    "    ix = len(P) - P[::-1].index(source)\n",
    "    return P[:ix] + [target, P[ix - 1]] + P[ix:]"
   ]
  },
  {
   "cell_type": "code",
   "execution_count": 5,
   "metadata": {},
   "outputs": [],
   "source": [
    "def covering_walk(graph, source):\n",
    "    P = [0]  # supporting walk\n",
    "    S = [0]  # stack of nodes to check\n",
    "    node2anon = {source: 0}\n",
    "    anon2node = {0: source}\n",
    "    checked = dict()  # nodes that has been checked for edge\n",
    "    degrees = graph.degree()\n",
    "    while len(S) > 0:  # grow supporting walk in DFS manner\n",
    "        curr = S[-1]\n",
    "        x = max(P) + 1  # next node to check\n",
    "\n",
    "        # check if there is a node in the neighborhood that has not been explored yet\n",
    "        Ncurr = list(nx.neighbors(graph, anon2node[curr]))\n",
    "        if random.uniform(0, 1) < 0.99:\n",
    "            random.shuffle(Ncurr)  # option 1: random order\n",
    "        else:\n",
    "            Ncurr = sorted(Ncurr, key=lambda v: degrees[v], reverse=True)  # option 2: top-degree\n",
    "            # Ncurr = sorted(Ncurr, key=lambda v: degrees[v], reverse=False)  # option 3: low-degree\n",
    "        # print(anon2node[curr], Ncurr)\n",
    "        for neighbor in Ncurr:\n",
    "            if neighbor in node2anon:\n",
    "                continue  # already visited\n",
    "            else:\n",
    "                node2anon[neighbor] = x\n",
    "                anon2node[x] = neighbor\n",
    "                S.append(x)\n",
    "                checked.setdefault(curr, set()).add(x)\n",
    "                P = replace(P, curr, x)  # move to it\n",
    "                break\n",
    "        else:\n",
    "            S.pop()  # move back in the stack\n",
    "\n",
    "        for u in range(x-1, curr, -1):  # u is already in the supporting walk\n",
    "            # check if there is connection to already discovered nodes\n",
    "            if u not in checked[curr]:  # see if we already checked this edge\n",
    "                if anon2node[u] in graph[anon2node[curr]]:\n",
    "                    P = replace(P, curr, u)\n",
    "                checked.setdefault(curr, set()).add(u)\n",
    "\n",
    "    cover = [anon2node[v] for v in P]\n",
    "    return cover, P"
   ]
  },
  {
   "cell_type": "code",
   "execution_count": 9,
   "metadata": {},
   "outputs": [],
   "source": [
    "#params\n",
    "NUM_PROBLEMS = 10\n",
    "NUM_EPISODES = 10\n",
    "BATCH_SIZE = 32\n",
    "NUM_MCSIMS = 5\n",
    "NUM_UPDATES = 5\n",
    "NUM_VERTICES = 15\n",
    "DEGREE = 6\n",
    "CPUCT = 1.0\n",
    "THRESHOLD = 0.75\n",
    "PATHS_BUFFER_CAPACITY = 1000\n",
    "REPLAY_BUFFER_CAPACITY = 10000"
   ]
  },
  {
   "cell_type": "code",
   "execution_count": 10,
   "metadata": {},
   "outputs": [],
   "source": [
    "moving_average = lambda x, **kw: DataFrame({'x':np.asarray(x)}).x.ewm(**kw).mean().values"
   ]
  },
  {
   "cell_type": "code",
   "execution_count": 11,
   "metadata": {},
   "outputs": [],
   "source": [
    "#generate regular train graphs (n=15, d=6)\n",
    "problem_maker = generate_regular_problems(num_vertices=NUM_VERTICES, degree=DEGREE)"
   ]
  },
  {
   "cell_type": "code",
   "execution_count": 12,
   "metadata": {},
   "outputs": [],
   "source": [
    "#initialize agent\n",
    "agent = AgentActLSTM(hid_size=256, gcn_size=256, vertex_emb_size=64)"
   ]
  },
  {
   "cell_type": "code",
   "execution_count": 13,
   "metadata": {},
   "outputs": [],
   "source": [
    "optimizer = torch.optim.Adam(agent.parameters(), lr=1e-4)"
   ]
  },
  {
   "cell_type": "code",
   "execution_count": 14,
   "metadata": {},
   "outputs": [],
   "source": [
    "#initialize buffers\n",
    "path_buffer = PathsBuffer(capacity=PATHS_BUFFER_CAPACITY, threshold=THRESHOLD)\n",
    "train_buffer = ReplayBuffer(capacity=REPLAY_BUFFER_CAPACITY)"
   ]
  },
  {
   "cell_type": "code",
   "execution_count": 15,
   "metadata": {},
   "outputs": [],
   "source": [
    "# loss stats\n",
    "pi_losses_history = []\n",
    "v_losses_history = []"
   ]
  },
  {
   "cell_type": "code",
   "execution_count": 16,
   "metadata": {},
   "outputs": [],
   "source": [
    "problems = [next(problem_maker) for i in range(NUM_PROBLEMS)]"
   ]
  },
  {
   "cell_type": "code",
   "execution_count": null,
   "metadata": {
    "scrolled": false
   },
   "outputs": [
    {
     "data": {
      "image/png": "[encoded data removed]",
      "text/plain": [
       "<Figure size 864x432 with 2 Axes>"
      ]
     },
     "metadata": {
      "needs_background": "light"
     },
     "output_type": "display_data"
    },
    {
     "name": "stderr",
     "output_type": "stream",
     "text": [
      "\r",
      " 10%|█         | 1/10 [28:15<4:14:16, 1695.18s/it]"
     ]
    }
   ],
   "source": [
    "i = 0\n",
    "\n",
    "for k in trange(len(problems)):\n",
    "    \n",
    "    problem = problems[k]\n",
    "    \n",
    "    edges = problem.get_edges()\n",
    "\n",
    "    for vertex in problem.get_actions():\n",
    "\n",
    "        path_buffer.flush()\n",
    "    \n",
    "        PATH_LENGTH = 2*problem.num_edges + 1        \n",
    "        \n",
    "        i += 1\n",
    "    \n",
    "        for episode in range(NUM_EPISODES):\n",
    "            \n",
    "            problem.path = [vertex]\n",
    "        \n",
    "            source = problem.get_state()[0]\n",
    "            \n",
    "            states = []\n",
    "            actions = []\n",
    "            \n",
    "            with torch.no_grad():\n",
    "                graph_emb = agent.embed_graph(problem.edges)\n",
    "                \n",
    "            mcts = MCTS(game=problem, nnet=agent, graph_emb=graph_emb,\n",
    "                        numMCTSSims=NUM_MCSIMS, cpuct=CPUCT, edges=edges)\n",
    "            \n",
    "            trainExamples = []\n",
    "                \n",
    "            random_walk = [source]\n",
    "            checked = ddict(list)\n",
    "            stack = [source]\n",
    "            visited = {source}\n",
    "            ranks = {0: source} # to attempt to get maximal cover (possible to do without rank, but then no guarantees on maximality)\n",
    "            revranks = {source: 0}\n",
    "            \n",
    "            while len(stack) > 0:\n",
    "                last = stack[-1]\n",
    "                lastrank = revranks[last]\n",
    "                maxrank = max(ranks.keys()) + 1\n",
    "                with torch.no_grad():\n",
    "                    pi = mcts.getActionProb(random_walk, path_buffer)\n",
    "                Nlast = [x for _,x in sorted(zip(pi, edges[random_walk[:][-1]]), reverse=True)]\n",
    "                #print(\"Is valid\", all(i in edges[random_walk[:][-1]] for i in Nlast))\n",
    "                # going in depth\n",
    "                flag = False\n",
    "                for neighbor in Nlast:\n",
    "                    if neighbor not in visited:\n",
    "                        trainExamples.append([random_walk, pi, None])\n",
    "                        random_walk.append(neighbor)\n",
    "                        stack.append(neighbor)\n",
    "                        checked[last].append(neighbor)\n",
    "                        visited.add(neighbor)\n",
    "                        ranks[maxrank] = neighbor\n",
    "                        revranks[neighbor] = maxrank\n",
    "                        flag = True\n",
    "                        break\n",
    "\n",
    "                # interconnecting nodes that are already in walk\n",
    "                if not flag:\n",
    "                    for r in range(maxrank-1, lastrank+1, -1):\n",
    "                        node = ranks[r]\n",
    "                        if node not in checked[last] and node in Nlast:\n",
    "                            checked[last].append(node)\n",
    "                            random_walk.extend([node, last])\n",
    "\n",
    "                if not flag:\n",
    "                    stack.pop()\n",
    "                    if len(stack) > 0:\n",
    "                        random_walk.append(stack[-1])\n",
    "                        checked[last].append(stack[-1])\n",
    "                        \n",
    "            path_buffer.push(random_walk)\n",
    "            if len(path_buffer) >= 10: \n",
    "                r = path_buffer.rank_path(random_walk)\n",
    "                for x in trainExamples:\n",
    "                    x[-1] = r\n",
    "                train_buffer.push(trainExamples)\n",
    "            \n",
    "        if len(train_buffer) >= BATCH_SIZE:\n",
    "            print(\"Start training!\")\n",
    "            for i in range(NUM_UPDATES):\n",
    "                batch = train_buffer.sample(BATCH_SIZE)\n",
    "                paths, pis, vs = zip(*batch)\n",
    "                graph_emb = agent.embed_graph(problem.edges)\n",
    "                out_pi, out_v = agent.get_dist(paths, graph_emb, edges)\n",
    "                \n",
    "                target_vs = torch.tensor(vs)\n",
    "                \n",
    "                losses_pi = []\n",
    "                for i, p in enumerate(pis):\n",
    "                    losses_pi.append(torch.tensor(p)*torch.log(out_pi[i]))\n",
    "            \n",
    "                loss_pi = -torch.sum(torch.stack(losses_pi))/len(pis)\n",
    "                loss_v = torch.sum((target_vs-out_v.view(-1))**2)/target_vs.size()[0]\n",
    "                total_loss = loss_pi + loss_v\n",
    "\n",
    "                pi_losses_history.append(loss_pi.item())\n",
    "                v_losses_history.append(loss_v.item())\n",
    "\n",
    "                optimizer.zero_grad()\n",
    "                total_loss.backward()\n",
    "                optimizer.step()\n",
    "\n",
    "                clear_output(True)\n",
    "                plt.figure(figsize=[12, 6])\n",
    "                plt.subplot(1,2,1)\n",
    "                plt.title('Policy error'); plt.grid()\n",
    "                plt.scatter(np.arange(len(pi_losses_history)), pi_losses_history, alpha=0.1)\n",
    "                plt.plot(moving_average(pi_losses_history, span=100, min_periods=100))\n",
    "\n",
    "                plt.subplot(1,2,2)\n",
    "                plt.title('Value error'); plt.grid()\n",
    "                plt.scatter(np.arange(len(v_losses_history)), v_losses_history, alpha=0.1)\n",
    "                plt.plot(moving_average(v_losses_history, span=10, min_periods=10))\n",
    "                plt.show()"
   ]
  },
  {
   "cell_type": "code",
   "execution_count": null,
   "metadata": {},
   "outputs": [],
   "source": [
    "path = [[0, 13, 14, 11, 4, 8, 6, 10, 3, 7, 5, 7, 3, 10, 2, 10, 12, 1, 12, 10, 7, 10, 6, 12, 6, 3, 6, 8, 9, 8, 2, 8, 4, 2, 4, 5, 4, 7, 4, 6, 4, 11, 2, 11, 10, 11, 14, 2, 14, 5, 14, 8, 14, 4, 14, 13, 1, 13, 3, 13, 6, 13, 8, 13, 4, 13, 0, 9, 0, 1, 0, 3, 0, 10, 0]]"
   ]
  },
  {
   "cell_type": "code",
   "execution_count": null,
   "metadata": {},
   "outputs": [],
   "source": [
    "edges"
   ]
  },
  {
   "cell_type": "code",
   "execution_count": null,
   "metadata": {},
   "outputs": [],
   "source": [
    "agent.get_dist(path, graph_emb, edges)"
   ]
  },
  {
   "cell_type": "code",
   "execution_count": null,
   "metadata": {},
   "outputs": [],
   "source": [
    "np.log([0.1835, 0.2127, 0.1741, 0.2131, 0.2166])"
   ]
  },
  {
   "cell_type": "code",
   "execution_count": null,
   "metadata": {},
   "outputs": [],
   "source": [
    "hours, rem = divmod(end-start, 3600)\n",
    "minutes, seconds = divmod(rem, 60)\n",
    "print(\"{:0>2}:{:0>2}:{:05.2f}\".format(int(hours),int(minutes),seconds))"
   ]
  },
  {
   "cell_type": "code",
   "execution_count": null,
   "metadata": {},
   "outputs": [],
   "source": [
    "p = next(problem_maker)"
   ]
  },
  {
   "cell_type": "code",
   "execution_count": null,
   "metadata": {},
   "outputs": [],
   "source": [
    "p.path = [random.sample(list(p.edges.keys()), 1)[0]]"
   ]
  },
  {
   "cell_type": "code",
   "execution_count": null,
   "metadata": {},
   "outputs": [],
   "source": [
    "graph_emb = agent.embed_graph(p.edges)\n",
    "path_length = 2*p.num_edges+1\n",
    "mcts = MCTS(game=p, nnet=agent, graph_emb=graph_emb,\n",
    "                    numMCTSSims=NUM_MCSIMS, cpuct=CPUCT, path_length=path_length)\n",
    "path = p.get_state()\n",
    "while len(path) != path_length:\n",
    "    with torch.no_grad():\n",
    "        pi = mcts.getActionProb(path)\n",
    "    vertex = np.random.choice(len(pi), p=pi)\n",
    "    path = p.get_next_state(path, vertex)\n",
    "print(path)"
   ]
  },
  {
   "cell_type": "code",
   "execution_count": null,
   "metadata": {},
   "outputs": [],
   "source": [
    "np.argsort([1, 5, 3])"
   ]
  },
  {
   "cell_type": "code",
   "execution_count": null,
   "metadata": {},
   "outputs": [],
   "source": [
    "graph_emb = agent.embed_graph(p.edges)"
   ]
  },
  {
   "cell_type": "code",
   "execution_count": null,
   "metadata": {},
   "outputs": [],
   "source": [
    "lstm = nn.LSTM(256, hidden_size= 256, batch_first=True)"
   ]
  },
  {
   "cell_type": "code",
   "execution_count": null,
   "metadata": {},
   "outputs": [],
   "source": [
    "print(lstm)"
   ]
  },
  {
   "cell_type": "code",
   "execution_count": null,
   "metadata": {},
   "outputs": [],
   "source": [
    "x = [3, 5, 6, 7, 8]"
   ]
  },
  {
   "cell_type": "code",
   "execution_count": null,
   "metadata": {},
   "outputs": [],
   "source": [
    "l = []\n",
    "for i in x:\n",
    "    l.append(graph_emb[i])"
   ]
  },
  {
   "cell_type": "code",
   "execution_count": null,
   "metadata": {},
   "outputs": [],
   "source": [
    "l"
   ]
  },
  {
   "cell_type": "code",
   "execution_count": null,
   "metadata": {},
   "outputs": [],
   "source": [
    "l = torch.stack(l).unsqueeze(0)"
   ]
  },
  {
   "cell_type": "code",
   "execution_count": null,
   "metadata": {},
   "outputs": [],
   "source": [
    "l"
   ]
  },
  {
   "cell_type": "code",
   "execution_count": null,
   "metadata": {},
   "outputs": [],
   "source": [
    "out, hidden = lstm(l)"
   ]
  },
  {
   "cell_type": "code",
   "execution_count": null,
   "metadata": {},
   "outputs": [],
   "source": [
    "print(hidden)"
   ]
  },
  {
   "cell_type": "code",
   "execution_count": null,
   "metadata": {},
   "outputs": [],
   "source": [
    "k = hidden[-1].view(-1)"
   ]
  },
  {
   "cell_type": "code",
   "execution_count": null,
   "metadata": {},
   "outputs": [],
   "source": [
    "k"
   ]
  },
  {
   "cell_type": "code",
   "execution_count": null,
   "metadata": {},
   "outputs": [],
   "source": [
    "walk_embs"
   ]
  },
  {
   "cell_type": "code",
   "execution_count": null,
   "metadata": {},
   "outputs": [],
   "source": [
    "walk_embs, hidden = lstm(l)"
   ]
  },
  {
   "cell_type": "code",
   "execution_count": null,
   "metadata": {},
   "outputs": [],
   "source": [
    "hidden"
   ]
  },
  {
   "cell_type": "code",
   "execution_count": null,
   "metadata": {},
   "outputs": [],
   "source": [
    "hn[:, -1, :][-1]"
   ]
  },
  {
   "cell_type": "code",
   "execution_count": null,
   "metadata": {},
   "outputs": [],
   "source": [
    "f = torch.tensor([[2., 5., 6.]])"
   ]
  },
  {
   "cell_type": "code",
   "execution_count": null,
   "metadata": {},
   "outputs": [],
   "source": [
    "torch.cat((walk_embs[:, -1, :], f), 1)"
   ]
  },
  {
   "cell_type": "code",
   "execution_count": null,
   "metadata": {},
   "outputs": [],
   "source": [
    "hn.view(-1, -1, -1)"
   ]
  },
  {
   "cell_type": "code",
   "execution_count": null,
   "metadata": {},
   "outputs": [],
   "source": [
    "linear = nn.Linear(10, 1)"
   ]
  },
  {
   "cell_type": "code",
   "execution_count": null,
   "metadata": {},
   "outputs": [],
   "source": [
    "y = linear(walk_embs[:, -1, :])"
   ]
  },
  {
   "cell_type": "code",
   "execution_count": null,
   "metadata": {},
   "outputs": [],
   "source": [
    "y"
   ]
  },
  {
   "cell_type": "code",
   "execution_count": null,
   "metadata": {},
   "outputs": [],
   "source": [
    "embs = y[0]"
   ]
  },
  {
   "cell_type": "code",
   "execution_count": null,
   "metadata": {},
   "outputs": [],
   "source": [
    "embs"
   ]
  },
  {
   "cell_type": "code",
   "execution_count": null,
   "metadata": {},
   "outputs": [],
   "source": [
    "embs[len([3, 5, 6, 7, 8])]"
   ]
  },
  {
   "cell_type": "code",
   "execution_count": null,
   "metadata": {},
   "outputs": [],
   "source": [
    "inputs = [torch.randn(1, 3) for _ in range(5)]"
   ]
  },
  {
   "cell_type": "code",
   "execution_count": null,
   "metadata": {},
   "outputs": [],
   "source": [
    "inputs"
   ]
  },
  {
   "cell_type": "code",
   "execution_count": null,
   "metadata": {},
   "outputs": [],
   "source": [
    "torch.cat(inputs).view(len(inputs), 1, -1)"
   ]
  },
  {
   "cell_type": "code",
   "execution_count": null,
   "metadata": {},
   "outputs": [],
   "source": [
    "p.edges"
   ]
  },
  {
   "cell_type": "code",
   "execution_count": null,
   "metadata": {},
   "outputs": [],
   "source": [
    "paths = [[2, 7, 5, 9], [2, 7, 5, 9, 8]]"
   ]
  },
  {
   "cell_type": "code",
   "execution_count": null,
   "metadata": {},
   "outputs": [],
   "source": [
    "graph_emb = agent.embed_graph(p.edges)"
   ]
  },
  {
   "cell_type": "code",
   "execution_count": null,
   "metadata": {},
   "outputs": [],
   "source": [
    "paths_emb = get_states_emb(paths, graph_emb)"
   ]
  },
  {
   "cell_type": "code",
   "execution_count": null,
   "metadata": {},
   "outputs": [],
   "source": [
    "paths_emb.shape"
   ]
  },
  {
   "cell_type": "code",
   "execution_count": null,
   "metadata": {},
   "outputs": [],
   "source": [
    "next_emb = graph_emb[8]"
   ]
  },
  {
   "cell_type": "code",
   "execution_count": null,
   "metadata": {},
   "outputs": [],
   "source": [
    "next_emb = next_emb.unsqueeze(0)"
   ]
  },
  {
   "cell_type": "code",
   "execution_count": null,
   "metadata": {},
   "outputs": [],
   "source": []
  },
  {
   "cell_type": "code",
   "execution_count": null,
   "metadata": {},
   "outputs": [],
   "source": [
    "q_network_inputs = torch.stack([\n",
    "torch.cat([get_states_emb([path], graph_emb), graph_emb[next_vertex].unsqueeze(0)] for next_vertex in {2, 5, 8}]\n",
    "            )])"
   ]
  },
  {
   "cell_type": "code",
   "execution_count": null,
   "metadata": {},
   "outputs": [],
   "source": [
    "[torch.cat([get_states_emb([path], graph_emb), graph_emb[next_vertex].unsqueeze(0)]) for next_vertex in {2, 5, 8}]"
   ]
  },
  {
   "cell_type": "code",
   "execution_count": null,
   "metadata": {},
   "outputs": [],
   "source": [
    "for next_vertex in {2, 5, 8}:\n",
    "    print(torch.cat([get_states_emb([path], graph_emb), graph_emb[next_vertex].unsqueeze(0)], 1))"
   ]
  },
  {
   "cell_type": "code",
   "execution_count": null,
   "metadata": {},
   "outputs": [],
   "source": [
    "paths_emb"
   ]
  },
  {
   "cell_type": "code",
   "execution_count": null,
   "metadata": {},
   "outputs": [],
   "source": [
    "[torch.cat([get_states_emb(paths, graph_emb), graph_emb[next_vertex].unsqueeze(0)]) for next_vertex in {2, 5, 8}]"
   ]
  },
  {
   "cell_type": "code",
   "execution_count": null,
   "metadata": {},
   "outputs": [],
   "source": [
    "x = get_states_emb([[1,2,3]], graph_emb)"
   ]
  },
  {
   "cell_type": "code",
   "execution_count": null,
   "metadata": {},
   "outputs": [],
   "source": [
    "for i in x:\n",
    "    print(torch.cat([i, next_emb]).shape)"
   ]
  },
  {
   "cell_type": "code",
   "execution_count": null,
   "metadata": {},
   "outputs": [],
   "source": [
    "paths_embs = get_states_emb(paths, graph_emb)"
   ]
  },
  {
   "cell_type": "code",
   "execution_count": null,
   "metadata": {},
   "outputs": [],
   "source": [
    "values = agent.value(paths_emb)"
   ]
  },
  {
   "cell_type": "code",
   "execution_count": null,
   "metadata": {},
   "outputs": [],
   "source": [
    "values"
   ]
  },
  {
   "cell_type": "code",
   "execution_count": null,
   "metadata": {},
   "outputs": [],
   "source": [
    "states = []\n",
    "for i, path in enumerate(paths):\n",
    "    next_embs = []\n",
    "    for next_vertex in p.edges[path[-1]]:\n",
    "        next_vertex_emb = graph_emb[next_vertex]\n",
    "        next_embs.append(torch.cat([paths_embs[i], next_vertex_emb]))\n",
    "    states.append(torch.stack(next_embs))\n",
    "print(states)\n",
    "predicts = []\n",
    "for i in states:\n",
    "    predicts.append(sm(log_reg(i)).view(-1))"
   ]
  },
  {
   "cell_type": "code",
   "execution_count": null,
   "metadata": {},
   "outputs": [],
   "source": [
    "predicts"
   ]
  },
  {
   "cell_type": "code",
   "execution_count": null,
   "metadata": {},
   "outputs": [],
   "source": [
    "log_reg = nn.Linear(768, 1)"
   ]
  },
  {
   "cell_type": "code",
   "execution_count": null,
   "metadata": {},
   "outputs": [],
   "source": [
    "sm = nn.Softmax(dim=0)"
   ]
  },
  {
   "cell_type": "code",
   "execution_count": null,
   "metadata": {},
   "outputs": [],
   "source": [
    "torch.states.unsqueeze(0)"
   ]
  },
  {
   "cell_type": "code",
   "execution_count": null,
   "metadata": {},
   "outputs": [],
   "source": [
    "p.edges"
   ]
  },
  {
   "cell_type": "code",
   "execution_count": null,
   "metadata": {},
   "outputs": [],
   "source": [
    "len(states[0][0])"
   ]
  },
  {
   "cell_type": "code",
   "execution_count": null,
   "metadata": {},
   "outputs": [],
   "source": [
    "random.sample([1, -1], 1)[0]"
   ]
  },
  {
   "cell_type": "code",
   "execution_count": null,
   "metadata": {},
   "outputs": [],
   "source": []
  }
 ],
 "metadata": {
  "kernelspec": {
   "display_name": "Python 3",
   "language": "python",
   "name": "python3"
  },
  "language_info": {
   "codemirror_mode": {
    "name": "ipython",
    "version": 3
   },
   "file_extension": ".py",
   "mimetype": "text/x-python",
   "name": "python",
   "nbconvert_exporter": "python",
   "pygments_lexer": "ipython3",
   "version": "3.6.7"
  }
 },
 "nbformat": 4,
 "nbformat_minor": 2
}
